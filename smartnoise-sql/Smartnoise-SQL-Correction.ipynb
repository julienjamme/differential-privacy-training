{
 "cells": [
  {
   "cell_type": "markdown",
   "id": "ebe537d9-14ba-4391-be5f-6ead354279d7",
   "metadata": {},
   "source": [
    "# Introduction to Smartnoise-SQL"
   ]
  },
  {
   "cell_type": "markdown",
   "id": "22c9f10d-cdf1-4d41-8e68-a7f1295fa3ec",
   "metadata": {},
   "source": [
    "[Smartnoise-SQL](https://docs.smartnoise.org/sql/index.html) is a python library that enables to perform differentially private SQL queries. \n",
    "\n",
    "SmartNoise is intended for scenarios where the analyst is trusted by the data owner."
   ]
  },
  {
   "cell_type": "markdown",
   "id": "171e71e6-593f-488f-8cdf-0d5e81d53767",
   "metadata": {},
   "source": [
    "## Step 1: Install the Library"
   ]
  },
  {
   "cell_type": "markdown",
   "id": "866cf891-3f6d-4ec7-9cf1-91b85e7738c6",
   "metadata": {},
   "source": [
    "Smartnoise-sql is available on pypi, it can be installed via the pip command. We will use the latest version of the library to date: version 1.0.6."
   ]
  },
  {
   "cell_type": "code",
   "execution_count": 1,
   "id": "2cbb1dfb-4323-4e58-8135-6b164c5c48e5",
   "metadata": {},
   "outputs": [
    {
     "name": "stdout",
     "output_type": "stream",
     "text": [
      "Requirement already satisfied: smartnoise-sql==1.0.6 in /opt/python/lib/python3.13/site-packages (1.0.6)\n",
      "Requirement already satisfied: PyYAML<7.0.0,>=6.0.1 in /opt/python/lib/python3.13/site-packages (from smartnoise-sql==1.0.6) (6.0.2)\n",
      "Requirement already satisfied: antlr4-python3-runtime==4.9.3 in /opt/python/lib/python3.13/site-packages (from smartnoise-sql==1.0.6) (4.9.3)\n",
      "Requirement already satisfied: graphviz<1.0,>=0.17 in /opt/python/lib/python3.13/site-packages (from smartnoise-sql==1.0.6) (0.21)\n",
      "Requirement already satisfied: opendp<0.13.0,>=0.8.0 in /opt/python/lib/python3.13/site-packages (from smartnoise-sql==1.0.6) (0.12.1)\n",
      "Requirement already satisfied: pandas<3.0.0,>=2.0.1 in /opt/python/lib/python3.13/site-packages (from smartnoise-sql==1.0.6) (2.3.2)\n",
      "Requirement already satisfied: sqlalchemy<3.0.0,>=2.0.0 in /opt/python/lib/python3.13/site-packages (from smartnoise-sql==1.0.6) (2.0.43)\n",
      "Requirement already satisfied: deprecated in /opt/python/lib/python3.13/site-packages (from opendp<0.13.0,>=0.8.0->smartnoise-sql==1.0.6) (1.2.18)\n",
      "Requirement already satisfied: numpy>=1.26.0 in /opt/python/lib/python3.13/site-packages (from pandas<3.0.0,>=2.0.1->smartnoise-sql==1.0.6) (2.3.3)\n",
      "Requirement already satisfied: python-dateutil>=2.8.2 in /opt/python/lib/python3.13/site-packages (from pandas<3.0.0,>=2.0.1->smartnoise-sql==1.0.6) (2.9.0.post0)\n",
      "Requirement already satisfied: pytz>=2020.1 in /opt/python/lib/python3.13/site-packages (from pandas<3.0.0,>=2.0.1->smartnoise-sql==1.0.6) (2025.2)\n",
      "Requirement already satisfied: tzdata>=2022.7 in /opt/python/lib/python3.13/site-packages (from pandas<3.0.0,>=2.0.1->smartnoise-sql==1.0.6) (2025.2)\n",
      "Requirement already satisfied: greenlet>=1 in /opt/python/lib/python3.13/site-packages (from sqlalchemy<3.0.0,>=2.0.0->smartnoise-sql==1.0.6) (3.2.4)\n",
      "Requirement already satisfied: typing-extensions>=4.6.0 in /opt/python/lib/python3.13/site-packages (from sqlalchemy<3.0.0,>=2.0.0->smartnoise-sql==1.0.6) (4.15.0)\n",
      "Requirement already satisfied: six>=1.5 in /opt/python/lib/python3.13/site-packages (from python-dateutil>=2.8.2->pandas<3.0.0,>=2.0.1->smartnoise-sql==1.0.6) (1.17.0)\n",
      "Requirement already satisfied: wrapt<2,>=1.10 in /opt/python/lib/python3.13/site-packages (from deprecated->opendp<0.13.0,>=0.8.0->smartnoise-sql==1.0.6) (1.17.3)\n"
     ]
    }
   ],
   "source": [
    "!pip install smartnoise-sql==1.0.6"
   ]
  },
  {
   "cell_type": "markdown",
   "id": "77f8e6fa-f835-4bb2-b725-056f687c8224",
   "metadata": {},
   "source": [
    "## Step 2: Load and Prepare Data"
   ]
  },
  {
   "cell_type": "markdown",
   "id": "fa98c3f1-93e1-47ea-b601-1ebe8adfac36",
   "metadata": {},
   "source": [
    "In this notebook, we will work with the [penguin dataset](\"https://raw.githubusercontent.com/mwaskom/seaborn-data/master/penguins.csv\") from [seaborn datasets](https://github.com/mwaskom/seaborn-data).\n",
    "We load the dataset via pandas in a dataframe `df`."
   ]
  },
  {
   "cell_type": "code",
   "execution_count": 2,
   "id": "f251892a-491c-4b3c-a768-6f85cd5a667a",
   "metadata": {},
   "outputs": [],
   "source": [
    "import pandas as pd"
   ]
  },
  {
   "cell_type": "code",
   "execution_count": 3,
   "id": "1b28da34-89b7-4af1-8af5-4f25c806b451",
   "metadata": {},
   "outputs": [],
   "source": [
    "path_to_data = \"https://raw.githubusercontent.com/mwaskom/seaborn-data/master/penguins.csv\"\n",
    "df = pd.read_csv(path_to_data)"
   ]
  },
  {
   "cell_type": "markdown",
   "id": "e7ca39e7-9eec-4be2-a0fa-6b602e6a7317",
   "metadata": {},
   "source": [
    "We can look at the first rows of the dataframe to get to know the data:"
   ]
  },
  {
   "cell_type": "code",
   "execution_count": 4,
   "id": "039bb30b-b068-41f0-9052-2d20e62868c9",
   "metadata": {},
   "outputs": [
    {
     "data": {
      "text/html": [
       "<div>\n",
       "<style scoped>\n",
       "    .dataframe tbody tr th:only-of-type {\n",
       "        vertical-align: middle;\n",
       "    }\n",
       "\n",
       "    .dataframe tbody tr th {\n",
       "        vertical-align: top;\n",
       "    }\n",
       "\n",
       "    .dataframe thead th {\n",
       "        text-align: right;\n",
       "    }\n",
       "</style>\n",
       "<table border=\"1\" class=\"dataframe\">\n",
       "  <thead>\n",
       "    <tr style=\"text-align: right;\">\n",
       "      <th></th>\n",
       "      <th>species</th>\n",
       "      <th>island</th>\n",
       "      <th>bill_length_mm</th>\n",
       "      <th>bill_depth_mm</th>\n",
       "      <th>flipper_length_mm</th>\n",
       "      <th>body_mass_g</th>\n",
       "      <th>sex</th>\n",
       "    </tr>\n",
       "  </thead>\n",
       "  <tbody>\n",
       "    <tr>\n",
       "      <th>0</th>\n",
       "      <td>Adelie</td>\n",
       "      <td>Torgersen</td>\n",
       "      <td>39.1</td>\n",
       "      <td>18.7</td>\n",
       "      <td>181.0</td>\n",
       "      <td>3750.0</td>\n",
       "      <td>MALE</td>\n",
       "    </tr>\n",
       "    <tr>\n",
       "      <th>1</th>\n",
       "      <td>Adelie</td>\n",
       "      <td>Torgersen</td>\n",
       "      <td>39.5</td>\n",
       "      <td>17.4</td>\n",
       "      <td>186.0</td>\n",
       "      <td>3800.0</td>\n",
       "      <td>FEMALE</td>\n",
       "    </tr>\n",
       "    <tr>\n",
       "      <th>2</th>\n",
       "      <td>Adelie</td>\n",
       "      <td>Torgersen</td>\n",
       "      <td>40.3</td>\n",
       "      <td>18.0</td>\n",
       "      <td>195.0</td>\n",
       "      <td>3250.0</td>\n",
       "      <td>FEMALE</td>\n",
       "    </tr>\n",
       "    <tr>\n",
       "      <th>3</th>\n",
       "      <td>Adelie</td>\n",
       "      <td>Torgersen</td>\n",
       "      <td>NaN</td>\n",
       "      <td>NaN</td>\n",
       "      <td>NaN</td>\n",
       "      <td>NaN</td>\n",
       "      <td>NaN</td>\n",
       "    </tr>\n",
       "    <tr>\n",
       "      <th>4</th>\n",
       "      <td>Adelie</td>\n",
       "      <td>Torgersen</td>\n",
       "      <td>36.7</td>\n",
       "      <td>19.3</td>\n",
       "      <td>193.0</td>\n",
       "      <td>3450.0</td>\n",
       "      <td>FEMALE</td>\n",
       "    </tr>\n",
       "  </tbody>\n",
       "</table>\n",
       "</div>"
      ],
      "text/plain": [
       "  species     island  bill_length_mm  bill_depth_mm  flipper_length_mm  \\\n",
       "0  Adelie  Torgersen            39.1           18.7              181.0   \n",
       "1  Adelie  Torgersen            39.5           17.4              186.0   \n",
       "2  Adelie  Torgersen            40.3           18.0              195.0   \n",
       "3  Adelie  Torgersen             NaN            NaN                NaN   \n",
       "4  Adelie  Torgersen            36.7           19.3              193.0   \n",
       "\n",
       "   body_mass_g     sex  \n",
       "0       3750.0    MALE  \n",
       "1       3800.0  FEMALE  \n",
       "2       3250.0  FEMALE  \n",
       "3          NaN     NaN  \n",
       "4       3450.0  FEMALE  "
      ]
     },
     "execution_count": 4,
     "metadata": {},
     "output_type": "execute_result"
    }
   ],
   "source": [
    "df.head()"
   ]
  },
  {
   "cell_type": "markdown",
   "id": "7588d0ae-b96e-4ecc-af8f-f0a23087932f",
   "metadata": {},
   "source": [
    "We see that there are 7 columns: 'species', 'island', 'bill_length_mm', 'bill_depth_mm', 'flipper_length_mm', 'body_mass_g' and 'sex' with various data types."
   ]
  },
  {
   "cell_type": "markdown",
   "id": "495a61bb-083b-4223-b523-b721e60944c9",
   "metadata": {},
   "source": [
    "## Step 3: Prepare Analysis with Smartnoise-SQL"
   ]
  },
  {
   "cell_type": "markdown",
   "id": "d7ff49cc-86e0-4ee7-a2e9-7c0bf39e1bde",
   "metadata": {},
   "source": [
    "Before doing a query, `smartnoise-sql` requires a reader object [(see doc here)](https://docs.smartnoise.org/sql/api/index.html#snsql.connect.from_df). When working with pandas dataframe, this object takes three parameters:\n",
    "- df: The Pandas DataFrame to be queried (which we loaded in step 2)\n",
    "- privacy: A Privacy object with the desired privacy parameters (we instantiate it in the next subsection)\n",
    "- metadata: The metadata describing the raw data (we instantiate it afterwards)"
   ]
  },
  {
   "cell_type": "markdown",
   "id": "b3e9b72b-6dfb-4fdf-8d38-fc84a47aa723",
   "metadata": {},
   "source": [
    "### Initialise the Privacy Object\n",
    "\n",
    "The [`Privacy`](https://docs.smartnoise.org/sql/api/index.html#privacy) object is used to configure the privacy budget for queries. The budget is defined by the parameters $\\epsilon$ and $\\delta$, following the standard definition of *approximate differential privacy*:  \n",
    "\n",
    "$$\n",
    "Pr[M(S) \\in O] \\leq e^{\\epsilon} \\cdot Pr[M(S') \\in O] + \\delta\n",
    "$$  \n",
    "\n",
    "In this example, we set $\\epsilon = 0.1$ and $\\delta = 0.0001$.\n",
    "\n",
    "\n",
    "**Note**: Each query in `smartnoise-sql` is internally decomposed into one or more sub-queries. Differential privacy noise is applied to each sub-query, and the results are then combined to produce the final answer.  \n",
    "\n",
    "The budget you specify applies per sub-query, not per overall query.  \n",
    "\n",
    "For example, an `AVG` query is computed as:  \n",
    "\n",
    "- one sub-query for the sum \n",
    "- one sub-query for the count\n",
    "\n",
    "Each sub-query consumes the full $(\\epsilon, \\delta)$ budget. The private mean is then returned as:  \n",
    "\n",
    "$$\n",
    "dp\\_mean = \\frac{dp\\_sum}{dp\\_count}\n",
    "$$  \n",
    "\n",
    "Thus, the total cost of the query is approximately double the specified budget.  \n",
    "See the advanced exercise in step 6 for a detailed example of this mechanism."
   ]
  },
  {
   "cell_type": "code",
   "execution_count": 5,
   "id": "ee0baf22-bd56-45e3-bcc6-833bbce44cd2",
   "metadata": {},
   "outputs": [],
   "source": [
    "from snsql import Privacy"
   ]
  },
  {
   "cell_type": "code",
   "execution_count": 6,
   "id": "d482aab9-a0e9-44f2-a7ad-fd8384873009",
   "metadata": {},
   "outputs": [],
   "source": [
    "# TODO: fill epsilon and delta values\n",
    "# EPSILON = ...\n",
    "# DETLA = ...\n",
    "\n",
    "# Correction\n",
    "EPSILON = 0.1\n",
    "DELTA = 1/10000"
   ]
  },
  {
   "cell_type": "code",
   "execution_count": 7,
   "id": "35deea19-ab78-4c69-b003-b2e2f8100835",
   "metadata": {},
   "outputs": [],
   "source": [
    "privacy = Privacy(epsilon=EPSILON, delta=DELTA)"
   ]
  },
  {
   "cell_type": "markdown",
   "id": "26eed1da-bcdf-41f7-a74e-bfb0dfabcc39",
   "metadata": {},
   "source": [
    "### Prepare the metadata\n",
    "\n",
    "Next we prepare the metadata. The expected format is described in the \n",
    "[smartnoise-sql documentation](https://docs.smartnoise.org/sql/metadata.html#metadata).  \n",
    "\n",
    "Metadata can be provided in different formats, such as an external `yaml` file or a dictionary.  \n",
    "In this notebook we will use the [dictionary format](https://docs.smartnoise.org/sql/metadata.html#dictionary-format).\n",
    "\n",
    "There are two categories of options: Table Options and Column Options.\n",
    "\n",
    "\n",
    "#### Table Options\n",
    "These apply to the entire table and control general query behavior.  \n",
    "They have default values and should only be overridden with care.\n",
    "\n",
    "- `max_ids`: maximum number of rows in which a unique user can appear.  \n",
    "  In our case, each penguin appears only once, so `max_ids = 1`.  \n",
    "- `row_privacy`: specifies whether each row corresponds to a single individual.  \n",
    "  This is true for our dataset since each row is one penguin.  \n",
    "- `censor_dims`: drops `GROUP BY` output rows that could reveal the presence of individuals.\n",
    "  For instance, if a categorical value is not public information and unique to an individual, its presence in the result can be disclosive.\n",
    "  Since species, island, and sex are public information, we set this to `false`.  \n",
    "- All other fields are kept at their default values.  \n",
    "\n",
    "\n",
    "#### Column Options\n",
    "These are required and must describe the table column by column.\n",
    "\n",
    "- Each column name must exactly match the column name in the table.  \n",
    "- Each column must define a `type` field, which can be one of: `int`, `float`, `string`, `boolean`, or `datetime`.  \n",
    "- Numeric columns (`int` or `float`) should also define `lower` and `upper` bounds, representing the theoretical minimum and maximum values.  \n",
    "  These bounds are used to compute sensitivity and calibrate the noise for differential privacy.  \n",
    "- Optionally, a boolean `nullable` field can be provided.  \n",
    "  By default it is `true`, meaning columns may contain null values.  \n",
    "  If the user knows a column has no nulls, this can be set to `false`.  \n",
    "- Other options exist but are not covered in this notebook.  \n"
   ]
  },
  {
   "cell_type": "markdown",
   "id": "859c9b29-41cb-4096-9472-55262c40b0d8",
   "metadata": {},
   "source": [
    "As explained for `Table Options`, we specify `max_ids`, `row_privacy` and `censor_dims` (and keep all other the default values too)."
   ]
  },
  {
   "cell_type": "code",
   "execution_count": 8,
   "id": "3638b437-82a9-4a8d-812b-1bf2da5be567",
   "metadata": {},
   "outputs": [],
   "source": [
    "table_options = {\n",
    "    'max_ids': 1,\n",
    "    'row_privacy': True,\n",
    "    'censor_dims': False\n",
    "}"
   ]
  },
  {
   "cell_type": "markdown",
   "id": "95748fbb-ab09-4d83-b145-7e5b9b3051b2",
   "metadata": {},
   "source": [
    "For `Column Options`, we look at the list of columns and dtypes and use expert knowledge to determine the type and bounds:"
   ]
  },
  {
   "cell_type": "code",
   "execution_count": 9,
   "id": "1ebdd689-dbfb-4f62-a598-b8edca264abc",
   "metadata": {},
   "outputs": [
    {
     "data": {
      "text/plain": [
       "species               object\n",
       "island                object\n",
       "bill_length_mm       float64\n",
       "bill_depth_mm        float64\n",
       "flipper_length_mm    float64\n",
       "body_mass_g          float64\n",
       "sex                   object\n",
       "dtype: object"
      ]
     },
     "execution_count": 9,
     "metadata": {},
     "output_type": "execute_result"
    }
   ],
   "source": [
    "df.dtypes"
   ]
  },
  {
   "cell_type": "code",
   "execution_count": 10,
   "id": "6749ef44-ee7c-4b89-8656-0177851261aa",
   "metadata": {},
   "outputs": [],
   "source": [
    "# Specify metadata for each column\n",
    "species_col = {'type': 'string', 'nullable': False}  # string: means chain of characters (like text)\n",
    "island_col = {'type': 'string', 'nullable': False}\n",
    "bill_length_col = {'type': 'float', 'lower': 30.0, 'upper': 65.0}  # float: means a decimal number (like 3.14)\n",
    "bill_depth_col = {'type': 'float', 'lower': 13.0, 'upper': 23.0}\n",
    "flipper_length_col = {'type': 'float', 'lower': 150.0, 'upper': 250.0}"
   ]
  },
  {
   "cell_type": "code",
   "execution_count": 11,
   "id": "e8007237-1c46-4c9e-809d-e3f36db72781",
   "metadata": {},
   "outputs": [],
   "source": [
    "# TODO: Fill body_mass_g and sex column metadata knowing that these specied of penguins typically weight between 2000.0 and 7000.0 grammes.\n",
    "# We cannot say for sure that there are no nulls in these columns.\n",
    "# body_mass_g_col = ...\n",
    "# sex_col = ...\n",
    "\n",
    "# Correction\n",
    "body_mass_g_col = {'type': 'float', 'lower': 2000.0, 'upper': 7000.0}\n",
    "sex_col = {'type': 'string'}"
   ]
  },
  {
   "cell_type": "code",
   "execution_count": 12,
   "id": "9ee726d3-9ea8-4f75-a369-e2695c7657d9",
   "metadata": {},
   "outputs": [],
   "source": [
    "# Collect all metadata into \"columns_options\"\n",
    "columns_options = {\n",
    "    'species': species_col,\n",
    "    'island': island_col,\n",
    "    'bill_length_mm': bill_length_col,\n",
    "    'bill_depth_mm': bill_depth_col,\n",
    "    'flipper_length_mm': flipper_length_col,\n",
    "    'body_mass_g': body_mass_g_col,\n",
    "    'sex': sex_col, \n",
    "}"
   ]
  },
  {
   "cell_type": "markdown",
   "id": "954dde3e-d9d8-4097-b09e-be4243e376d6",
   "metadata": {},
   "source": [
    "Then, we assemble the metadata respecting the format expected by `smartnoise-sql`. As it can work on multiple table, it needs some additional outer fields."
   ]
  },
  {
   "cell_type": "code",
   "execution_count": 13,
   "id": "4cb6dea1-35db-43a8-a001-d51cd3b0d5a0",
   "metadata": {},
   "outputs": [],
   "source": [
    "# Build metadata\n",
    "metadata = {\n",
    "    '': {\n",
    "        '': {\n",
    "            'penguin_table': {  # Note: we set the table name as 'penguin_table' here\n",
    "                **table_options,\n",
    "                **columns_options\n",
    "            }\n",
    "        }\n",
    "    }\n",
    "}"
   ]
  },
  {
   "cell_type": "code",
   "execution_count": 14,
   "id": "21da32e7-4941-41e9-af95-9d262b151863",
   "metadata": {},
   "outputs": [
    {
     "data": {
      "text/plain": [
       "{'': {'': {'penguin_table': {'max_ids': 1,\n",
       "    'row_privacy': True,\n",
       "    'censor_dims': False,\n",
       "    'species': {'type': 'string', 'nullable': False},\n",
       "    'island': {'type': 'string', 'nullable': False},\n",
       "    'bill_length_mm': {'type': 'float', 'lower': 30.0, 'upper': 65.0},\n",
       "    'bill_depth_mm': {'type': 'float', 'lower': 13.0, 'upper': 23.0},\n",
       "    'flipper_length_mm': {'type': 'float', 'lower': 150.0, 'upper': 250.0},\n",
       "    'body_mass_g': {'type': 'float', 'lower': 2000.0, 'upper': 7000.0},\n",
       "    'sex': {'type': 'string'}}}}}"
      ]
     },
     "execution_count": 14,
     "metadata": {},
     "output_type": "execute_result"
    }
   ],
   "source": [
    "metadata"
   ]
  },
  {
   "cell_type": "markdown",
   "id": "c1e8a173-ebbf-4dc4-a0ca-b33dbcc0ecd9",
   "metadata": {},
   "source": [
    "### Instantiate the reader"
   ]
  },
  {
   "cell_type": "markdown",
   "id": "98c4f5b5-e888-4e1f-943f-14483b077800",
   "metadata": {},
   "source": [
    "All arguments are now available to create the reader object mentionned at the begin of step 3."
   ]
  },
  {
   "cell_type": "code",
   "execution_count": 15,
   "id": "0000722b-9544-40c2-82a5-aac52f4b5e1f",
   "metadata": {},
   "outputs": [],
   "source": [
    "from snsql import from_df"
   ]
  },
  {
   "cell_type": "code",
   "execution_count": 16,
   "id": "eb7e61a7-c283-4e82-9ba7-627a95f5ac31",
   "metadata": {},
   "outputs": [],
   "source": [
    "# TODO: Instantiate the reader object\n",
    "# reader = ...\n",
    "\n",
    "# Correction\n",
    "reader = from_df(df, metadata=metadata, privacy=privacy)"
   ]
  },
  {
   "cell_type": "markdown",
   "id": "75df751c-4e13-4bd8-9fc4-adfec3aca9a2",
   "metadata": {},
   "source": [
    "## Step 4: Differentially Private Dataset Query\n",
    "\n",
    "We are now ready to execute queries. Note: the table was named `penguin_table` in the metadata, so the queries must always query `FROM penguin_table`.\n",
    "\n",
    "### Count Number of Penguins\n",
    "Let's write a query to count the number of rows in the dataset:"
   ]
  },
  {
   "cell_type": "code",
   "execution_count": 17,
   "id": "1c1edf07-03e9-4e3b-8cd8-8e6a825482bb",
   "metadata": {},
   "outputs": [],
   "source": [
    "COUNT_QUERY = \"SELECT COUNT(*) AS nb_penguins FROM penguin_table\""
   ]
  },
  {
   "cell_type": "markdown",
   "id": "8aa7fc18-fa70-4aa2-b500-169f96a2be2c",
   "metadata": {},
   "source": [
    "We can verify the privacy cost of this query:"
   ]
  },
  {
   "cell_type": "code",
   "execution_count": 18,
   "id": "1e932603-2da0-4438-b983-c77e973ff954",
   "metadata": {},
   "outputs": [
    {
     "name": "stdout",
     "output_type": "stream",
     "text": [
      "This query will cost 0.1 epsilon and 0.00014999500000001387 delta.\n"
     ]
    }
   ],
   "source": [
    "epsilon, delta = reader.get_privacy_cost(COUNT_QUERY)\n",
    "print(f\"This query will cost {epsilon} epsilon and {delta} delta.\")"
   ]
  },
  {
   "cell_type": "markdown",
   "id": "13938bcb-2e72-42c9-a0fa-98d50a47db94",
   "metadata": {},
   "source": [
    "We can request its accuracy for a given $\\alpha$, i.e., the interval within which the unprotected query has a probability $1- \\alpha$ to fall within. For instance, with $\\alpha=0.05$ (95\\% interval):"
   ]
  },
  {
   "cell_type": "code",
   "execution_count": 19,
   "id": "ddd6adac-903c-4c4e-a75d-ca155a3c56a7",
   "metadata": {},
   "outputs": [
    {
     "name": "stdout",
     "output_type": "stream",
     "text": [
      "For 95% of query executions, the number of penguins will be within +/- 29.95732301453925 of true value\n"
     ]
    }
   ],
   "source": [
    "ALPHA = 0.05\n",
    "accuracy = reader.get_simple_accuracy(COUNT_QUERY, ALPHA)\n",
    "print(f\"For 95% of query executions, the number of penguins will be within +/- {accuracy[0]} of true value\")"
   ]
  },
  {
   "cell_type": "markdown",
   "id": "dd907793-eaa1-44bb-a350-9126a7212ed6",
   "metadata": {},
   "source": [
    "And then run the query to obtain the protected result:"
   ]
  },
  {
   "cell_type": "code",
   "execution_count": 20,
   "id": "f9c0441f-4145-44a6-9e44-4f11c875f961",
   "metadata": {},
   "outputs": [
    {
     "data": {
      "text/plain": [
       "[['nb_penguins'], [336]]"
      ]
     },
     "execution_count": 20,
     "metadata": {},
     "output_type": "execute_result"
    }
   ],
   "source": [
    "result = reader.execute(COUNT_QUERY)\n",
    "result"
   ]
  },
  {
   "cell_type": "markdown",
   "id": "de834312-e066-4e50-bfd5-6599e31d24b6",
   "metadata": {},
   "source": [
    "And compare it with the true number of rows:"
   ]
  },
  {
   "cell_type": "code",
   "execution_count": 21,
   "id": "aa7d2b58-187c-4b2d-9057-394ab76ba112",
   "metadata": {},
   "outputs": [
    {
     "name": "stdout",
     "output_type": "stream",
     "text": [
      "Non-DP number of penguins: 344.\n",
      "DP number of penguins: 336.\n",
      "Difference: 8.\n"
     ]
    }
   ],
   "source": [
    "print(f\"Non-DP number of penguins: {df.shape[0]}.\")\n",
    "print(f\"DP number of penguins: {result[1][0]}.\")\n",
    "print(f\"Difference: {abs(df.shape[0] - result[1][0])}.\")"
   ]
  },
  {
   "cell_type": "markdown",
   "id": "a0ba673a-01d2-4ad2-869b-2b859083aba7",
   "metadata": {},
   "source": [
    "### Average Bill Length of Penguins\n",
    "Beyond counting queries, we now write and experiment with averages of the bill length."
   ]
  },
  {
   "cell_type": "code",
   "execution_count": 22,
   "id": "d3a19791-2dd0-498f-8fac-e3da27ac7abb",
   "metadata": {},
   "outputs": [],
   "source": [
    "privacy = Privacy(epsilon=EPSILON, delta=DELTA)\n",
    "reader = from_df(df, metadata=metadata, privacy=privacy)"
   ]
  },
  {
   "cell_type": "code",
   "execution_count": 23,
   "id": "bc3587f1-aa82-4d0f-9e44-d37ddaced92b",
   "metadata": {},
   "outputs": [
    {
     "name": "stdout",
     "output_type": "stream",
     "text": [
      "This query will cost 0.2 epsilon and 4.999999999999449e-05 delta.\n",
      "DP average bill length: 50.25418280164734mm.\n"
     ]
    }
   ],
   "source": [
    "# TODO: write a query to compute the average bill length, check its budget and execute it\n",
    "# AVG_QUERY = ...\n",
    "# epsilon, delta = ...\n",
    "# result = ...\n",
    "\n",
    "# Correction\n",
    "AVG_QUERY = \"SELECT AVG(bill_length_mm) AS avg_bill_length_mm FROM penguin_table\"\n",
    "epsilon, delta = reader.get_privacy_cost(AVG_QUERY)\n",
    "result = reader.execute(AVG_QUERY)\n",
    "\n",
    "print(f\"This query will cost {epsilon} epsilon and {delta} delta.\")\n",
    "print(f\"DP average bill length: {result[1][0]}mm.\")"
   ]
  },
  {
   "cell_type": "markdown",
   "id": "76b792ba-c74d-42b5-9161-13a41e1e227d",
   "metadata": {},
   "source": [
    "### Overriding the mechanism\n",
    "SmartNoiseSQL uses default protection mechanism depending of the type of the query. For the average, SmanrtNoiseSQL applies a Laplace mechanism by default, but we would like to use Gaussian differential privacy, which uses the Gaussian mechanism instead. This can be done by overriding the mechanism in the `Privacy` object.  \n",
    "\n",
    "When computing an average, both the sum and the count are computed as sub-queries, so the mechanism needs to be overridden for each of them.  "
   ]
  },
  {
   "cell_type": "code",
   "execution_count": 24,
   "id": "28b45839-1800-451b-a5fe-b75baf411a0e",
   "metadata": {},
   "outputs": [],
   "source": [
    "from snsql import Stat, Mechanism"
   ]
  },
  {
   "cell_type": "code",
   "execution_count": 25,
   "id": "1e7a14e9-3a69-401c-92b0-586e721a9907",
   "metadata": {},
   "outputs": [
    {
     "name": "stdout",
     "output_type": "stream",
     "text": [
      "By default, smartnoise-sql default to using Mechanism.discrete_laplace for counts.\n",
      "By default, smartnoise-sql default to using Mechanism.laplace for sums of float.\n",
      "We switch to use Gaussian mechanisms\n"
     ]
    }
   ],
   "source": [
    "print(f\"By default, smartnoise-sql default to using {privacy.mechanisms.map[Stat.count]} for counts.\")\n",
    "print(f\"By default, smartnoise-sql default to using {privacy.mechanisms.map[Stat.sum_float]} for sums of float.\")\n",
    "\n",
    "print(\"We switch to use Gaussian mechanisms\")\n",
    "privacy.mechanisms.map[Stat.count] = Mechanism.gaussian\n",
    "privacy.mechanisms.map[Stat.sum_float] = Mechanism.gaussian"
   ]
  },
  {
   "cell_type": "markdown",
   "id": "16d5828d-5472-4418-a9f4-a464a7cc0d0f",
   "metadata": {},
   "source": [
    "Estimating the privacy cost of the query again, we see that a much bigger $\\delta$ is spent with the Gaussian mechanism."
   ]
  },
  {
   "cell_type": "code",
   "execution_count": 26,
   "id": "e1438483-edc9-4ca6-8b6d-cf5a35b90e89",
   "metadata": {},
   "outputs": [
    {
     "name": "stdout",
     "output_type": "stream",
     "text": [
      "This query will cost 0.2 epsilon and 0.0002499800004999164 delta.\n"
     ]
    }
   ],
   "source": [
    "AVG_QUERY = \"SELECT AVG(bill_length_mm) AS avg_bill_length_mm FROM penguin_table\"\n",
    "epsilon, delta = reader.get_privacy_cost(AVG_QUERY)\n",
    "print(f\"This query will cost {epsilon} epsilon and {delta} delta.\")"
   ]
  },
  {
   "cell_type": "markdown",
   "id": "158ff1b9-37cf-4aba-9ec2-8524e79cd769",
   "metadata": {},
   "source": [
    "Technical Note: even though we where using the Laplace mechnism previously, the queries were consuming some $\\delta$. The reason behind this surprising behaviour is that SmartNoiseSQL uses an improved composition theorem for which budget expenditure for an increasing number of queries is reduced at the cost of a small $\\delta$."
   ]
  },
  {
   "cell_type": "markdown",
   "id": "cda7a535-68c5-4947-b163-184cb394a482",
   "metadata": {},
   "source": [
    "### Average Bill Length by Species of Penguins\n",
    "\n",
    "We now reset the privacy and reader to default parameters (with Laplace mechanisms) by re-creating the objects :"
   ]
  },
  {
   "cell_type": "code",
   "execution_count": 27,
   "id": "98ec034c-be49-4198-b499-4b1f2ca78246",
   "metadata": {},
   "outputs": [],
   "source": [
    "privacy = Privacy(epsilon=EPSILON, delta=DELTA)\n",
    "reader = from_df(df, metadata=metadata, privacy=privacy)"
   ]
  },
  {
   "cell_type": "markdown",
   "id": "8b95d67c-e556-4505-a6b0-bc1e0a69d2c1",
   "metadata": {},
   "source": [
    "Now write a query to compute the average bill length per species to get a deeper understanding of the population characteristics:"
   ]
  },
  {
   "cell_type": "code",
   "execution_count": 28,
   "id": "44ce556d-2e75-4a88-8735-f73a9edcd0a2",
   "metadata": {},
   "outputs": [],
   "source": [
    "# TODO: write a query to compute the average bill length of penguin per species\n",
    "#AVG_GROUP_QUERY = \"\"\"\n",
    "#    SELECT \n",
    "#    species AS species, \\\n",
    "#    ... AS avg_bill_length_mm \\\n",
    "#    FROM ... \\\n",
    "#    GROUP BY ...\n",
    "#\"\"\"\n",
    "\n",
    "# Correction\n",
    "AVG_GROUP_QUERY = \"\"\"\n",
    "    SELECT \n",
    "    species AS species,\n",
    "    AVG(bill_length_mm) AS avg_bill_length_mm\n",
    "    FROM penguin_table\n",
    "    GROUP BY species\n",
    "\"\"\""
   ]
  },
  {
   "cell_type": "markdown",
   "id": "b7a8dcef-faea-4666-86fc-f1419c639b75",
   "metadata": {},
   "source": [
    "And verify the privacy budget of the query. Note: can you guess what it is before executing the cell ?"
   ]
  },
  {
   "cell_type": "code",
   "execution_count": 29,
   "id": "93809f03-f68a-4ee9-9a76-3a7cf723eeb9",
   "metadata": {},
   "outputs": [
    {
     "name": "stdout",
     "output_type": "stream",
     "text": [
      "This query will cost 0.2 epsilon and 4.999999999999449e-05 delta.\n"
     ]
    }
   ],
   "source": [
    "epsilon, delta = reader.get_privacy_cost(AVG_GROUP_QUERY)\n",
    "print(f\"This query will cost {epsilon} epsilon and {delta} delta.\")"
   ]
  },
  {
   "cell_type": "markdown",
   "id": "c961e6c8-50a4-4ab7-ad34-aa1261f74a34",
   "metadata": {},
   "source": [
    "Now, we execute it:"
   ]
  },
  {
   "cell_type": "code",
   "execution_count": 30,
   "id": "e9c31b8e-0993-4c88-8103-1b1fe382d3d1",
   "metadata": {},
   "outputs": [],
   "source": [
    "avg_result = reader.execute(AVG_GROUP_QUERY)"
   ]
  },
  {
   "cell_type": "markdown",
   "id": "159208ee-27c9-48d2-a279-64244d2885b4",
   "metadata": {},
   "source": [
    "And just format the result:"
   ]
  },
  {
   "cell_type": "code",
   "execution_count": 31,
   "id": "7c6e6ea1-4819-4948-9f49-55924c1be444",
   "metadata": {},
   "outputs": [],
   "source": [
    "def format_results(results):\n",
    "    \"\"\"Small function to format results in pd.DataFrame\"\"\"\n",
    "    result = results[:]\n",
    "    cols = result.pop(0)\n",
    "    return pd.DataFrame(result, columns=cols)"
   ]
  },
  {
   "cell_type": "code",
   "execution_count": 32,
   "id": "5dfb6e37-080f-4ffa-b3b8-a1a4e64250be",
   "metadata": {},
   "outputs": [
    {
     "data": {
      "text/html": [
       "<div>\n",
       "<style scoped>\n",
       "    .dataframe tbody tr th:only-of-type {\n",
       "        vertical-align: middle;\n",
       "    }\n",
       "\n",
       "    .dataframe tbody tr th {\n",
       "        vertical-align: top;\n",
       "    }\n",
       "\n",
       "    .dataframe thead th {\n",
       "        text-align: right;\n",
       "    }\n",
       "</style>\n",
       "<table border=\"1\" class=\"dataframe\">\n",
       "  <thead>\n",
       "    <tr style=\"text-align: right;\">\n",
       "      <th></th>\n",
       "      <th>species</th>\n",
       "      <th>avg_bill_length_mm</th>\n",
       "    </tr>\n",
       "  </thead>\n",
       "  <tbody>\n",
       "    <tr>\n",
       "      <th>0</th>\n",
       "      <td>Adelie</td>\n",
       "      <td>33.213546</td>\n",
       "    </tr>\n",
       "    <tr>\n",
       "      <th>1</th>\n",
       "      <td>Chinstrap</td>\n",
       "      <td>45.581348</td>\n",
       "    </tr>\n",
       "    <tr>\n",
       "      <th>2</th>\n",
       "      <td>Gentoo</td>\n",
       "      <td>46.131811</td>\n",
       "    </tr>\n",
       "  </tbody>\n",
       "</table>\n",
       "</div>"
      ],
      "text/plain": [
       "     species  avg_bill_length_mm\n",
       "0     Adelie           33.213546\n",
       "1  Chinstrap           45.581348\n",
       "2     Gentoo           46.131811"
      ]
     },
     "execution_count": 32,
     "metadata": {},
     "output_type": "execute_result"
    }
   ],
   "source": [
    "avg_result = format_results(avg_result)\n",
    "avg_result"
   ]
  },
  {
   "cell_type": "markdown",
   "id": "c9ef983c-ad57-42d4-aebd-3548b8e21385",
   "metadata": {},
   "source": [
    "## Step 5: Learn How to Use the Odometer\n",
    "\n",
    "When working with differentially private queries, there are two common approaches to tracking privacy loss budget spending.\n",
    "\n",
    "1. **Summing the privacy cost of each individual query manually** – i.e., calculating epsilon and delta for one query and adding it for each executions.  \n",
    "2. **Using the privacy odometer** – a mechanism provided by the `PrivateReader` that tracks accumulated privacy spending automatically as queries are executed.\n",
    "\n",
    "We will show the two versions here. First, we initialise the reader and check that the privacy spent so far is $0$."
   ]
  },
  {
   "cell_type": "code",
   "execution_count": 33,
   "id": "474a008c-b206-4fcc-a72b-5d149a27852f",
   "metadata": {},
   "outputs": [
    {
     "data": {
      "text/plain": [
       "(0.0, 0.0)"
      ]
     },
     "execution_count": 33,
     "metadata": {},
     "output_type": "execute_result"
    }
   ],
   "source": [
    "privacy = Privacy(epsilon=0.1, delta=10e-7)\n",
    "reader = from_df(df, metadata=metadata, privacy=privacy)\n",
    "reader.odometer.spent"
   ]
  },
  {
   "cell_type": "markdown",
   "id": "c709ea53-c1c5-46e8-a463-fda82b8eec27",
   "metadata": {},
   "source": [
    "We execute one query and check the cost of a single query with `get_privacy_cost` and with the odometer."
   ]
  },
  {
   "cell_type": "code",
   "execution_count": 34,
   "id": "9783b149-db30-40ff-b4cb-2626f10fbedd",
   "metadata": {},
   "outputs": [
    {
     "name": "stdout",
     "output_type": "stream",
     "text": [
      "Privacy loss budget of one query with the odometer (0.4, 4.999999999588667e-07).\n",
      "Privacy loss budget of one query (no odometer) (0.4, 4.999999999588667e-07).\n"
     ]
    }
   ],
   "source": [
    "# Execute one query\n",
    "query = 'SELECT AVG(bill_length_mm), AVG(flipper_length_mm) FROM penguin_table'\n",
    "result = reader.execute(query)\n",
    "\n",
    "# Privacy loss budget of one query with the odometer\n",
    "epsilon_odometer, delta_odometer = reader.odometer.spent\n",
    "print(f\"Privacy loss budget of one query with the odometer ({epsilon_odometer}, {delta_odometer}).\")\n",
    "\n",
    "# Privacy loss budget of one query\n",
    "epsilon_single, delta_single = reader.get_privacy_cost(query)\n",
    "print(f\"Privacy loss budget of one query (no odometer) ({epsilon_single}, {delta_single}).\")"
   ]
  },
  {
   "cell_type": "markdown",
   "id": "8eb6f908-43d4-4c6f-8af1-15d5b8d382f9",
   "metadata": {},
   "source": [
    "We see that they are the same. Now let's compare the privacy loss budget of a hundred queries:"
   ]
  },
  {
   "cell_type": "code",
   "execution_count": 35,
   "id": "b366cb93-327d-4ffa-941e-69c0cdc46cda",
   "metadata": {},
   "outputs": [
    {
     "name": "stdout",
     "output_type": "stream",
     "text": [
      "Privacy loss budget of 100 queries with the odometer (12.771879536126042, 4.999999999588667e-07).\n",
      "Privacy loss budget of 100 queries (no odometer) (40.0, 4.999999999588667e-05).\n"
     ]
    }
   ],
   "source": [
    "for _ in range(99):\n",
    "    reader.execute(query)\n",
    "\n",
    "epsilon_odometer_many, delta_odometer_many = reader.odometer.spent\n",
    "print(f\"Privacy loss budget of 100 queries with the odometer ({epsilon_odometer_many}, {delta_odometer_many}).\")\n",
    "print(f\"Privacy loss budget of 100 queries (no odometer) ({epsilon_single * 100}, {delta_single * 100}).\")"
   ]
  },
  {
   "cell_type": "markdown",
   "id": "89748d5c-88ad-439a-b65d-9c546c351efd",
   "metadata": {},
   "source": [
    "Question: When doing multiple queries, is it better to use the odometer or is it better to simply add the cost of each individual query ? Why ?"
   ]
  },
  {
   "cell_type": "markdown",
   "id": "d89942e6-3a79-4911-9ac2-d9c446a57cec",
   "metadata": {},
   "source": [
    "**Short Answer**: The odometer because less budget is spent.\n",
    "\n",
    "**Long Answer**: While multiplying the cost of a single query by the number of executions may seem straightforward, it assumes a worst-case additive composition of privacy. This approach can significantly overstate the true privacy loss, especially when queries are correlated or when advanced composition theorems apply.  \n",
    "\n",
    "The odometer, on the other hand, tracks the actual accumulated privacy spending using the most advantageous composition theorem. This means it can leverage advanced composition, parallel composition, and other optimizations built into the SmartNoise framework. \n",
    "\n",
    "In short, the odometer is better than simply adding up individual query costs because it optimizes privacy composition of multiple queries and provides a tighter, more accurate estimate of total privacy consumption.  "
   ]
  },
  {
   "cell_type": "markdown",
   "id": "6abab14b-407e-44de-9ccf-28b9c5060037",
   "metadata": {},
   "source": [
    "## Step 6: Advanced Exercise with Hypothesis testing"
   ]
  },
  {
   "cell_type": "markdown",
   "id": "bcc07dbf-418e-4c93-bc33-065585011643",
   "metadata": {},
   "source": [
    "We want to test if bill length differ between two penguins species with a two-tailed two-sample $t$ test and a level of significance at 0.05.\n",
    "- The null hypothese $H_0$ is bill length does not differ between species.\n",
    "- The alternative hypothesis $H_a$ is bill length does differ between species.\n",
    "\n",
    "Therefore, we need \n",
    "- the number of penguin per species,\n",
    "- the average bill length per species and,\n",
    "- the standard deviation of bill length per species.\n",
    "\n",
    "We first allow more budget for this query a create new the `privacy` and `reader` objects."
   ]
  },
  {
   "cell_type": "code",
   "execution_count": 36,
   "id": "745e8a89-acea-46a6-ac1c-aa9f8ee80825",
   "metadata": {},
   "outputs": [],
   "source": [
    "privacy = Privacy(epsilon=1.0, delta=0.1)\n",
    "reader = from_df(df, metadata=metadata, privacy=privacy)"
   ]
  },
  {
   "cell_type": "markdown",
   "id": "cb412660-0c27-49da-aca6-aadc950e2beb",
   "metadata": {},
   "source": [
    "### Write query"
   ]
  },
  {
   "cell_type": "markdown",
   "id": "b484b6ba-17ff-465b-8cfc-1e711a64160e",
   "metadata": {},
   "source": [
    "Now write a query to get the necessary statistics:"
   ]
  },
  {
   "cell_type": "code",
   "execution_count": 37,
   "id": "f2f9725b-64ac-4a89-a076-3fe2c4bad88c",
   "metadata": {},
   "outputs": [],
   "source": [
    "# TODO: Write a query that gets the number of penguin, average and standard deviation of bill length per penguin species\n",
    "#HYP_QUERY = \"\"\"\n",
    "#    SELECT\n",
    "#    species AS species,\n",
    "#    ... AS nb_penguin,\n",
    "#    ... AS avg_bill_length_mm,\n",
    "#    ... AS std_bill_length_mm\n",
    "#    FROM ...\n",
    "#    GROUP BY ...\n",
    "#\"\"\"\n",
    "\n",
    "# Correction\n",
    "HYP_QUERY = \"\"\"\n",
    "    SELECT\n",
    "    species AS species,\n",
    "    COUNT(bill_length_mm) AS nb_penguin,\n",
    "    AVG(bill_length_mm) AS avg_bill_length_mm,\n",
    "    STD(bill_length_mm) AS std_bill_length_mm\n",
    "    FROM penguin_table\n",
    "    GROUP BY species\n",
    "\"\"\""
   ]
  },
  {
   "cell_type": "markdown",
   "id": "561a2bb3-e2a3-47fd-9409-90c67e679603",
   "metadata": {},
   "source": [
    "### Understand budget"
   ]
  },
  {
   "cell_type": "markdown",
   "id": "b1d60b9b-f84c-4b31-a3cd-0baba4ad0db3",
   "metadata": {},
   "source": [
    "Do you remember the command to estimate the budget of this query?"
   ]
  },
  {
   "cell_type": "code",
   "execution_count": 38,
   "id": "c2094e57-df14-45c7-9647-e8b5d4b93b24",
   "metadata": {},
   "outputs": [
    {
     "data": {
      "text/plain": [
       "(np.float64(3.0), np.float64(0.050000000000000044))"
      ]
     },
     "execution_count": 38,
     "metadata": {},
     "output_type": "execute_result"
    }
   ],
   "source": [
    "# TODO: Estimate budget of query with smartnoise_sql\n",
    "#epsilon, delta = ...\n",
    "\n",
    "# Correction\n",
    "epsilon, delta = reader.get_privacy_cost(HYP_QUERY)\n",
    "epsilon, delta"
   ]
  },
  {
   "cell_type": "markdown",
   "id": "4a74b3fb-fee3-4d7a-90e4-a5cf7aee269e",
   "metadata": {},
   "source": [
    "We see that the privacy loss budget spent in epsilon is three times the input budget epsilon. Let's look into into smartnoise-sql to understand why (this is not necessary to use the library but unables us to understand how it works:"
   ]
  },
  {
   "cell_type": "code",
   "execution_count": 39,
   "id": "b195a42c-ca91-4a98-b84e-92f2e1cd711a",
   "metadata": {},
   "outputs": [
    {
     "name": "stdout",
     "output_type": "stream",
     "text": [
      "Outer query: SELECT species AS species, ( count_bill_length_mm ) AS nb_penguin, ( ( sum_bill_length_mm / count_bill_length_mm ) ) AS avg_bill_length_mm, ( SQRT ( ( sum_alias_0x4ec5 / count_bill_length_mm ) - ( sum_bill_length_mm / count_bill_length_mm ) * ( sum_bill_length_mm / count_bill_length_mm ) ) ) AS std_bill_length_mm FROM ( SELECT species AS species, COUNT(bill_length_mm) AS count_bill_length_mm, SUM(bill_length_mm) AS sum_bill_length_mm, SUM(bill_length_mm * bill_length_mm) AS sum_alias_0x4ec5 FROM ( SELECT species AS species, CASE WHEN bill_length_mm < 30.0 THEN 30.0 WHEN bill_length_mm > 65.0 THEN 65.0 ELSE  bill_length_mm END AS bill_length_mm FROM penguin_table ) AS per_key_all GROUP BY species ) AS exact_aggregates\n",
      "\n",
      "Subquery: SELECT species AS species, COUNT(bill_length_mm) AS count_bill_length_mm, SUM(bill_length_mm) AS sum_bill_length_mm, SUM(bill_length_mm * bill_length_mm) AS sum_alias_0x4ec5 FROM ( SELECT species AS species, CASE WHEN bill_length_mm < 30.0 THEN 30.0 WHEN bill_length_mm > 65.0 THEN 65.0 ELSE  bill_length_mm END AS bill_length_mm FROM penguin_table ) AS per_key_all GROUP BY species\n"
     ]
    }
   ],
   "source": [
    "subquery, query = reader._rewrite(HYP_QUERY)\n",
    "print(\"Outer query:\", query)\n",
    "print(\"\")\n",
    "print(\"Subquery:\", subquery)"
   ]
  },
  {
   "cell_type": "markdown",
   "id": "0e7fcf38-394b-4883-bf9f-0b68ba1307ed",
   "metadata": {},
   "source": [
    "What happened is that smartnoise sql rewrote the query as three subqueries (without counting the SELECT on species):\n",
    "- SELECT species AS species,\n",
    "- COUNT(bill_length_mm) AS count_bill_length_mm,\n",
    "- SUM(bill_length_mm) AS sum_bill_length_mm,\n",
    "- SUM(bill_length_mm * bill_length_mm) AS sum_alias_0xc15f\n",
    "\n",
    "And then postprocessed them with:\n",
    "- SELECT species AS species,\n",
    "- ( count_bill_length_mm ) AS nb_penguin,\n",
    "- ( ( sum_bill_length_mm / count_bill_length_mm ) ) AS avg_bill_length_mm,\n",
    "- ( SQRT ( ( sum_alias_0xc15f / count_bill_length_mm ) - ( sum_bill_length_mm / count_bill_length_mm ) * ( sum_bill_length_mm / count_bill_length_mm ) ) ) AS std_bill_length_mm\n",
    "\n",
    "The get the result of the query. \n",
    "\n",
    "Each subquery cost the epsilon given in input. Therefore, the total is three times the input budget."
   ]
  },
  {
   "cell_type": "markdown",
   "id": "105044a8-f68c-4c93-a009-fa15a5c08989",
   "metadata": {},
   "source": [
    "### Execute query"
   ]
  },
  {
   "cell_type": "markdown",
   "id": "6df9e4ef-f0ae-419b-9d69-940dd20bcb35",
   "metadata": {},
   "source": [
    "We execute the query below. If there is a `nan` in the output, we execute the query again."
   ]
  },
  {
   "cell_type": "code",
   "execution_count": 40,
   "id": "3da971ce-f3d5-4e1c-af8a-852826a51ae1",
   "metadata": {},
   "outputs": [
    {
     "name": "stderr",
     "output_type": "stream",
     "text": [
      "/opt/python/lib/python3.13/site-packages/snsql/_ast/expressions/numeric.py:144: RuntimeWarning: invalid value encountered in sqrt\n",
      "  return funcs[self.name.lower()](exp)\n",
      "/opt/python/lib/python3.13/site-packages/snsql/_ast/expressions/numeric.py:144: RuntimeWarning: invalid value encountered in sqrt\n",
      "  return funcs[self.name.lower()](exp)\n"
     ]
    },
    {
     "data": {
      "text/html": [
       "<div>\n",
       "<style scoped>\n",
       "    .dataframe tbody tr th:only-of-type {\n",
       "        vertical-align: middle;\n",
       "    }\n",
       "\n",
       "    .dataframe tbody tr th {\n",
       "        vertical-align: top;\n",
       "    }\n",
       "\n",
       "    .dataframe thead th {\n",
       "        text-align: right;\n",
       "    }\n",
       "</style>\n",
       "<table border=\"1\" class=\"dataframe\">\n",
       "  <thead>\n",
       "    <tr style=\"text-align: right;\">\n",
       "      <th></th>\n",
       "      <th>species</th>\n",
       "      <th>nb_penguin</th>\n",
       "      <th>avg_bill_length_mm</th>\n",
       "      <th>std_bill_length_mm</th>\n",
       "    </tr>\n",
       "  </thead>\n",
       "  <tbody>\n",
       "    <tr>\n",
       "      <th>0</th>\n",
       "      <td>Adelie</td>\n",
       "      <td>151</td>\n",
       "      <td>39.004267</td>\n",
       "      <td>7.363224</td>\n",
       "    </tr>\n",
       "    <tr>\n",
       "      <th>1</th>\n",
       "      <td>Chinstrap</td>\n",
       "      <td>68</td>\n",
       "      <td>48.698734</td>\n",
       "      <td>10.975031</td>\n",
       "    </tr>\n",
       "    <tr>\n",
       "      <th>2</th>\n",
       "      <td>Gentoo</td>\n",
       "      <td>122</td>\n",
       "      <td>46.584159</td>\n",
       "      <td>8.063875</td>\n",
       "    </tr>\n",
       "  </tbody>\n",
       "</table>\n",
       "</div>"
      ],
      "text/plain": [
       "     species  nb_penguin  avg_bill_length_mm  std_bill_length_mm\n",
       "0     Adelie         151           39.004267            7.363224\n",
       "1  Chinstrap          68           48.698734           10.975031\n",
       "2     Gentoo         122           46.584159            8.063875"
      ]
     },
     "execution_count": 40,
     "metadata": {},
     "output_type": "execute_result"
    }
   ],
   "source": [
    "hyp_result = reader.execute(HYP_QUERY)\n",
    "df_result = format_results(hyp_result)\n",
    "\n",
    "while df_result.isna().any().any():\n",
    "    hyp_result = reader.execute(HYP_QUERY)\n",
    "    df_result = format_results(hyp_result)\n",
    "df_result"
   ]
  },
  {
   "cell_type": "markdown",
   "id": "e2c7d3d6-6f60-4793-8e6f-4feae2838673",
   "metadata": {},
   "source": [
    "### Testing mean differences between pairs of groups"
   ]
  },
  {
   "cell_type": "markdown",
   "id": "f8d5ba4c-0b93-46d1-ab61-dba6240a1d08",
   "metadata": {},
   "source": [
    "We now apply a t-test to assess if there is a significance difference in mean bill length between pairs of groups:"
   ]
  },
  {
   "cell_type": "code",
   "execution_count": 41,
   "id": "5438ed3f-0250-4d0b-b954-36de39f37ad1",
   "metadata": {},
   "outputs": [],
   "source": [
    "import numpy as np"
   ]
  },
  {
   "cell_type": "code",
   "execution_count": 42,
   "id": "29a5d592-8a28-4326-8b4b-c5c2d71c761b",
   "metadata": {},
   "outputs": [],
   "source": [
    "# Create function allowing to compute the test statistic\n",
    "def t_test(avg_1, avg_2, std_1, std_2, nb_1, nb_2):\n",
    "    standard_error = (std_1 * (nb_1 - 1) + std_2 * (nb_2 - 1))/(nb_1 + nb_2 - 2)\n",
    "    return (avg_1 - avg_2)/np.sqrt(standard_error**2*(1/nb_1 + 1 /nb_2))"
   ]
  },
  {
   "cell_type": "code",
   "execution_count": 43,
   "id": "30d03f4a-3103-4ed2-b019-f0efcc928747",
   "metadata": {},
   "outputs": [],
   "source": [
    "# Store each individual statistic into named variables\n",
    "nb_0, avg_0, std_0 = df_result[['nb_penguin', 'avg_bill_length_mm', 'std_bill_length_mm']].iloc[0]\n",
    "nb_1, avg_1, std_1 = df_result[['nb_penguin', 'avg_bill_length_mm', 'std_bill_length_mm']].iloc[1]\n",
    "nb_2, avg_2, std_2 = df_result[['nb_penguin', 'avg_bill_length_mm', 'std_bill_length_mm']].iloc[2]"
   ]
  },
  {
   "cell_type": "code",
   "execution_count": 44,
   "id": "1e49b3ae-b6c6-4f55-b277-eedb985dad5b",
   "metadata": {},
   "outputs": [
    {
     "name": "stdout",
     "output_type": "stream",
     "text": [
      "T test between species 0 and specie 1: -7.83. Reject null hypothesis: True.\n",
      "T test between species 0 and specie 2: -8.11. Reject null hypothesis: True.\n",
      "T test between species 1 and specie 2: 1.54. Reject null hypothesis: True.\n"
     ]
    }
   ],
   "source": [
    "# Compute the statistics for all pairs\n",
    "t_01 = t_test(avg_0, avg_1, std_0, std_1, nb_0, nb_1)\n",
    "t_02 = t_test(avg_0, avg_2, std_0, std_2, nb_0, nb_2)\n",
    "t_12 = t_test(avg_1, avg_2, std_1, std_2, nb_1, nb_2)\n",
    "\n",
    "CRITICAL_VALUE = 0.05\n",
    "print(f\"T test between species 0 and specie 1: {np.round(t_01, 2)}. Reject null hypothesis: {abs(t_01) > CRITICAL_VALUE}.\")\n",
    "print(f\"T test between species 0 and specie 2: {np.round(t_02, 2)}. Reject null hypothesis: {abs(t_02) > CRITICAL_VALUE}.\")\n",
    "print(f\"T test between species 1 and specie 2: {np.round(t_12, 2)}. Reject null hypothesis: {abs(t_12) > CRITICAL_VALUE}.\")"
   ]
  },
  {
   "cell_type": "markdown",
   "id": "8d8ae89f-a0b2-4c51-aaaa-1a2b10120479",
   "metadata": {},
   "source": [
    "Technical note 1 : here, we for simplicity we used the same confidence level $\\alpha = 0.05$ for all tests. In practice, we should account for multiple testing by at least applying a Bonferroni correction of any other, more advanced, correction.\n",
    "\n",
    "Technical note 2 : the noise added through the DP mechasnism influences the test performance. Thus formal analysis of the impact of the DP mechnanism on the power of the hypothesis test is necessary. We will discuss this topic on Day 3 of the course."
   ]
  },
  {
   "cell_type": "markdown",
   "id": "32dcb3a1-dba9-492d-9df8-a7fd102ed245",
   "metadata": {},
   "source": [
    "We also compute the confidence interval of bill length of each species:"
   ]
  },
  {
   "cell_type": "code",
   "execution_count": 45,
   "id": "eeeb5090-678a-46d3-93a4-cf2dd3252d2f",
   "metadata": {},
   "outputs": [
    {
     "data": {
      "text/html": [
       "<div>\n",
       "<style scoped>\n",
       "    .dataframe tbody tr th:only-of-type {\n",
       "        vertical-align: middle;\n",
       "    }\n",
       "\n",
       "    .dataframe tbody tr th {\n",
       "        vertical-align: top;\n",
       "    }\n",
       "\n",
       "    .dataframe thead th {\n",
       "        text-align: right;\n",
       "    }\n",
       "</style>\n",
       "<table border=\"1\" class=\"dataframe\">\n",
       "  <thead>\n",
       "    <tr style=\"text-align: right;\">\n",
       "      <th></th>\n",
       "      <th>species</th>\n",
       "      <th>nb_penguin</th>\n",
       "      <th>avg_bill_length_mm</th>\n",
       "      <th>std_bill_length_mm</th>\n",
       "      <th>standard_error</th>\n",
       "      <th>ci_95_lower_bound</th>\n",
       "      <th>ci_95_upper_bound</th>\n",
       "    </tr>\n",
       "  </thead>\n",
       "  <tbody>\n",
       "    <tr>\n",
       "      <th>0</th>\n",
       "      <td>Adelie</td>\n",
       "      <td>151</td>\n",
       "      <td>39.004267</td>\n",
       "      <td>7.363224</td>\n",
       "      <td>0.599211</td>\n",
       "      <td>37.829814</td>\n",
       "      <td>40.178720</td>\n",
       "    </tr>\n",
       "    <tr>\n",
       "      <th>1</th>\n",
       "      <td>Chinstrap</td>\n",
       "      <td>68</td>\n",
       "      <td>48.698734</td>\n",
       "      <td>10.975031</td>\n",
       "      <td>1.330918</td>\n",
       "      <td>46.090135</td>\n",
       "      <td>51.307333</td>\n",
       "    </tr>\n",
       "    <tr>\n",
       "      <th>2</th>\n",
       "      <td>Gentoo</td>\n",
       "      <td>122</td>\n",
       "      <td>46.584159</td>\n",
       "      <td>8.063875</td>\n",
       "      <td>0.730069</td>\n",
       "      <td>45.153224</td>\n",
       "      <td>48.015095</td>\n",
       "    </tr>\n",
       "  </tbody>\n",
       "</table>\n",
       "</div>"
      ],
      "text/plain": [
       "     species  nb_penguin  avg_bill_length_mm  std_bill_length_mm  \\\n",
       "0     Adelie         151           39.004267            7.363224   \n",
       "1  Chinstrap          68           48.698734           10.975031   \n",
       "2     Gentoo         122           46.584159            8.063875   \n",
       "\n",
       "   standard_error  ci_95_lower_bound  ci_95_upper_bound  \n",
       "0        0.599211          37.829814          40.178720  \n",
       "1        1.330918          46.090135          51.307333  \n",
       "2        0.730069          45.153224          48.015095  "
      ]
     },
     "execution_count": 45,
     "metadata": {},
     "output_type": "execute_result"
    }
   ],
   "source": [
    "ZSCORE = 1.96\n",
    "df_result['standard_error'] = df_result['std_bill_length_mm']/np.sqrt(df_result['nb_penguin'])\n",
    "df_result['ci_95_lower_bound'] = df_result['avg_bill_length_mm'] - ZSCORE * df_result['standard_error']\n",
    "df_result['ci_95_upper_bound'] = df_result['avg_bill_length_mm'] + ZSCORE * df_result['standard_error']\n",
    "df_result"
   ]
  },
  {
   "cell_type": "markdown",
   "id": "bf18f393-618e-40d1-a99f-6f2606c22ef4",
   "metadata": {},
   "source": [
    "## Step 7: On your Own"
   ]
  },
  {
   "cell_type": "markdown",
   "id": "360991ef-dd36-40a6-805f-dcd40ba4211e",
   "metadata": {},
   "source": [
    "There are many additional options and methods available in the `smartnoise-sql` library that we could not cover in this course. The key takeaways are:\n",
    "\n",
    "- **Direct database connections**: `smartnoise-sql` can connect to and execute queries directly on databases such as SQL Server, Postgres, Spark, or Presto. In this notebook, we focused on the data science aspects and demonstrated examples only with Pandas DataFrames.  \n",
    "- **Table metadata**: A solid understanding of [Table metadata](https://docs.smartnoise.org/sql/metadata.html#table-options) is essential, especially if you plan to adjust the default values. We strongly recommend becoming familiar with these settings before making modifications.  \n",
    "- **Working with multiple tables**: It is possible to query multiple tables and join them together, with the privacy budget shared across all tables involved.  \n",
    "\n",
    "We encourage you to explore further on your own!"
   ]
  },
  {
   "cell_type": "code",
   "execution_count": null,
   "id": "51abf018-8fa4-4f95-9d9a-96d7995e624d",
   "metadata": {},
   "outputs": [],
   "source": []
  },
  {
   "cell_type": "code",
   "execution_count": null,
   "id": "759df20e-da77-4106-8745-5fcafceb953e",
   "metadata": {},
   "outputs": [],
   "source": []
  }
 ],
 "metadata": {
  "kernelspec": {
   "display_name": "Python 3 (ipykernel)",
   "language": "python",
   "name": "python3"
  },
  "language_info": {
   "codemirror_mode": {
    "name": "ipython",
    "version": 3
   },
   "file_extension": ".py",
   "mimetype": "text/x-python",
   "name": "python",
   "nbconvert_exporter": "python",
   "pygments_lexer": "ipython3",
   "version": "3.11.11"
  }
 },
 "nbformat": 4,
 "nbformat_minor": 5
}
